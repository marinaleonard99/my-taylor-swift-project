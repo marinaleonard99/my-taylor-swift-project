{
 "cells": [
  {
   "cell_type": "markdown",
   "metadata": {},
   "source": [
    "# Marina Leonard\n",
    "\n",
    "# Taylor Swift Lyric Analysis"
   ]
  },
  {
   "cell_type": "markdown",
   "metadata": {},
   "source": [
    "## Contents"
   ]
  },
  {
   "cell_type": "markdown",
   "metadata": {},
   "source": [
    "This data was from shaynak on github"
   ]
  },
  {
   "cell_type": "markdown",
   "metadata": {},
   "source": [
    "## Set Up"
   ]
  },
  {
   "cell_type": "code",
   "execution_count": 3,
   "metadata": {},
   "outputs": [],
   "source": [
    "# Standard imports\n",
    "import numpy as np\n",
    "import pandas as pd\n",
    "import matplotlib.pyplot as plt\n",
    "\n",
    "# Important functionality for this lesson\n",
    "import re\n",
    "import string\n",
    "from sklearn.feature_extraction.text import ENGLISH_STOP_WORDS, CountVectorizer, TfidfVectorizer\n",
    "from sklearn.linear_model import LogisticRegression\n",
    "from sklearn.neighbors import NearestNeighbors\n",
    "from sklearn.model_selection import train_test_split\n"
   ]
  },
  {
   "cell_type": "code",
   "execution_count": 4,
   "metadata": {},
   "outputs": [],
   "source": [
    "original_lyric_df = pd.read_csv('data/taylor_lyrics_full.csv')"
   ]
  },
  {
   "cell_type": "code",
   "execution_count": 5,
   "metadata": {},
   "outputs": [],
   "source": [
    "lyric_df = original_lyric_df.copy()"
   ]
  },
  {
   "cell_type": "markdown",
   "metadata": {},
   "source": [
    "## Cleaning"
   ]
  },
  {
   "cell_type": "markdown",
   "metadata": {},
   "source": [
    "### Removing unnecessary columns"
   ]
  },
  {
   "cell_type": "code",
   "execution_count": 6,
   "metadata": {},
   "outputs": [
    {
     "data": {
      "text/plain": [
       "Title     257\n",
       "Album      24\n",
       "Lyrics    257\n",
       "dtype: int64"
      ]
     },
     "execution_count": 6,
     "metadata": {},
     "output_type": "execute_result"
    }
   ],
   "source": [
    "lyric_df.nunique()"
   ]
  },
  {
   "cell_type": "markdown",
   "metadata": {},
   "source": [
    "### Duplicates"
   ]
  },
  {
   "cell_type": "markdown",
   "metadata": {},
   "source": [
    "Check that there are no duplicate rows / songs. "
   ]
  },
  {
   "cell_type": "code",
   "execution_count": 7,
   "metadata": {},
   "outputs": [
    {
     "data": {
      "text/plain": [
       "0"
      ]
     },
     "execution_count": 7,
     "metadata": {},
     "output_type": "execute_result"
    }
   ],
   "source": [
    "lyric_df.duplicated().sum()"
   ]
  },
  {
   "cell_type": "markdown",
   "metadata": {},
   "source": [
    "However, in this database, there are no repeated lines. This must have been done before."
   ]
  },
  {
   "cell_type": "code",
   "execution_count": 8,
   "metadata": {},
   "outputs": [
    {
     "data": {
      "text/html": [
       "<div>\n",
       "<style scoped>\n",
       "    .dataframe tbody tr th:only-of-type {\n",
       "        vertical-align: middle;\n",
       "    }\n",
       "\n",
       "    .dataframe tbody tr th {\n",
       "        vertical-align: top;\n",
       "    }\n",
       "\n",
       "    .dataframe thead th {\n",
       "        text-align: right;\n",
       "    }\n",
       "</style>\n",
       "<table border=\"1\" class=\"dataframe\">\n",
       "  <thead>\n",
       "    <tr style=\"text-align: right;\">\n",
       "      <th></th>\n",
       "      <th>Title</th>\n",
       "      <th>Album</th>\n",
       "      <th>Lyrics</th>\n",
       "    </tr>\n",
       "  </thead>\n",
       "  <tbody>\n",
       "    <tr>\n",
       "      <th>0</th>\n",
       "      <td>Tim McGraw</td>\n",
       "      <td>Taylor Swift</td>\n",
       "      <td>He said the way my blue eyes shined\\nPut those...</td>\n",
       "    </tr>\n",
       "    <tr>\n",
       "      <th>1</th>\n",
       "      <td>Picture to Burn</td>\n",
       "      <td>Taylor Swift</td>\n",
       "      <td>State the obvious, I didn't get my perfect fan...</td>\n",
       "    </tr>\n",
       "    <tr>\n",
       "      <th>2</th>\n",
       "      <td>Teardrops On My Guitar</td>\n",
       "      <td>Taylor Swift</td>\n",
       "      <td>Drew looks at me\\nI fake a smile so he won't s...</td>\n",
       "    </tr>\n",
       "    <tr>\n",
       "      <th>3</th>\n",
       "      <td>A Place In This World</td>\n",
       "      <td>Taylor Swift</td>\n",
       "      <td>I don't know what I want, so don't ask me\\n'Ca...</td>\n",
       "    </tr>\n",
       "    <tr>\n",
       "      <th>4</th>\n",
       "      <td>Cold as You</td>\n",
       "      <td>Taylor Swift</td>\n",
       "      <td>You have a way of coming easily to me\\nAnd whe...</td>\n",
       "    </tr>\n",
       "  </tbody>\n",
       "</table>\n",
       "</div>"
      ],
      "text/plain": [
       "                    Title         Album  \\\n",
       "0              Tim McGraw  Taylor Swift   \n",
       "1         Picture to Burn  Taylor Swift   \n",
       "2  Teardrops On My Guitar  Taylor Swift   \n",
       "3   A Place In This World  Taylor Swift   \n",
       "4             Cold as You  Taylor Swift   \n",
       "\n",
       "                                              Lyrics  \n",
       "0  He said the way my blue eyes shined\\nPut those...  \n",
       "1  State the obvious, I didn't get my perfect fan...  \n",
       "2  Drew looks at me\\nI fake a smile so he won't s...  \n",
       "3  I don't know what I want, so don't ask me\\n'Ca...  \n",
       "4  You have a way of coming easily to me\\nAnd whe...  "
      ]
     },
     "execution_count": 8,
     "metadata": {},
     "output_type": "execute_result"
    }
   ],
   "source": [
    "lyric_df.head()"
   ]
  },
  {
   "cell_type": "code",
   "execution_count": 9,
   "metadata": {},
   "outputs": [
    {
     "name": "stdout",
     "output_type": "stream",
     "text": [
      "There are 257 rows and 3 columns in this dataset.\n"
     ]
    }
   ],
   "source": [
    "print(f'There are {lyric_df.shape[0]} rows and {lyric_df.shape[1]} columns in this dataset.')"
   ]
  },
  {
   "cell_type": "markdown",
   "metadata": {},
   "source": [
    "### Null and NA Values"
   ]
  },
  {
   "cell_type": "code",
   "execution_count": 10,
   "metadata": {},
   "outputs": [
    {
     "data": {
      "text/plain": [
       "0"
      ]
     },
     "execution_count": 10,
     "metadata": {},
     "output_type": "execute_result"
    }
   ],
   "source": [
    "lyric_df.isna().sum().sum()"
   ]
  },
  {
   "cell_type": "code",
   "execution_count": 11,
   "metadata": {},
   "outputs": [
    {
     "data": {
      "text/plain": [
       "0"
      ]
     },
     "execution_count": 11,
     "metadata": {},
     "output_type": "execute_result"
    }
   ],
   "source": [
    "lyric_df.isnull().sum().sum()"
   ]
  },
  {
   "cell_type": "markdown",
   "metadata": {},
   "source": [
    "There are no NA or Null values"
   ]
  },
  {
   "cell_type": "markdown",
   "metadata": {},
   "source": [
    "## EDA"
   ]
  },
  {
   "cell_type": "markdown",
   "metadata": {},
   "source": [
    "### Albums"
   ]
  },
  {
   "cell_type": "markdown",
   "metadata": {},
   "source": [
    "We can filter by albums."
   ]
  },
  {
   "cell_type": "code",
   "execution_count": 12,
   "metadata": {},
   "outputs": [],
   "source": [
    "number_of_albumns = lyric_df['Album'].nunique()"
   ]
  },
  {
   "cell_type": "code",
   "execution_count": 13,
   "metadata": {},
   "outputs": [],
   "source": [
    "list_of_albumns = list(lyric_df['Album'].unique())"
   ]
  },
  {
   "cell_type": "code",
   "execution_count": 14,
   "metadata": {},
   "outputs": [
    {
     "name": "stdout",
     "output_type": "stream",
     "text": [
      "There are 24 albums in this Dataset\n",
      "They are :\n",
      "Taylor Swift\n",
      "Beautiful Eyes\n",
      "Fearless (Taylor's Version)\n",
      "Speak Now (Taylor's Version)\n",
      "Red (Taylor's Version)\n",
      "1989 (Taylor's Version)\n",
      "reputation\n",
      "Lover\n",
      "folklore\n",
      "evermore\n",
      "Midnights\n",
      "The Tortured Poets Department\n",
      "The Taylor Swift Holiday Collection\n",
      "The Hunger Games\n",
      "How Long Do You Think It's Gonna Last\n",
      "Cats\n",
      "Where The Crawdads Sing\n",
      "Christmas Tree Farm\n",
      "Fifty Shades Darker\n",
      "Miss Americana\n",
      "Love Drunk\n",
      "Women in Music Part III\n",
      "Two Lanes of Freedom\n",
      "The Hannah Montana Movie\n"
     ]
    }
   ],
   "source": [
    "print(f'There are {number_of_albumns} albums in this Dataset')\n",
    "\n",
    "print('They are :')\n",
    "\n",
    "for item in list_of_albumns:\n",
    "    print(item)"
   ]
  },
  {
   "cell_type": "markdown",
   "metadata": {},
   "source": [
    "### Album with Most Songs"
   ]
  },
  {
   "cell_type": "code",
   "execution_count": 15,
   "metadata": {},
   "outputs": [
    {
     "data": {
      "text/plain": [
       "Album\n",
       "The Tortured Poets Department            31\n",
       "Red (Taylor's Version)                   29\n",
       "Fearless (Taylor's Version)              26\n",
       "1989 (Taylor's Version)                  23\n",
       "Midnights                                23\n",
       "Speak Now (Taylor's Version)             22\n",
       "Lover                                    19\n",
       "folklore                                 17\n",
       "evermore                                 17\n",
       "reputation                               15\n",
       "Taylor Swift                             14\n",
       "The Taylor Swift Holiday Collection       6\n",
       "Cats                                      2\n",
       "Beautiful Eyes                            2\n",
       "The Hunger Games                          2\n",
       "How Long Do You Think It's Gonna Last     1\n",
       "Where The Crawdads Sing                   1\n",
       "Christmas Tree Farm                       1\n",
       "Fifty Shades Darker                       1\n",
       "Miss Americana                            1\n",
       "Love Drunk                                1\n",
       "Women in Music Part III                   1\n",
       "Two Lanes of Freedom                      1\n",
       "The Hannah Montana Movie                  1\n",
       "Name: count, dtype: int64"
      ]
     },
     "execution_count": 15,
     "metadata": {},
     "output_type": "execute_result"
    }
   ],
   "source": [
    "lyric_df['Album'].value_counts().sort_values(ascending=False)"
   ]
  },
  {
   "cell_type": "markdown",
   "metadata": {},
   "source": [
    "The album with the most songs is The Tortured Poets Department"
   ]
  },
  {
   "cell_type": "markdown",
   "metadata": {},
   "source": [
    "### Album with longest average song by word"
   ]
  },
  {
   "cell_type": "code",
   "execution_count": 16,
   "metadata": {},
   "outputs": [],
   "source": [
    "lyric_df['Song_word_length'] = lyric_df['Lyrics'].apply(lambda x : len(x.split(' ')))"
   ]
  },
  {
   "cell_type": "code",
   "execution_count": 17,
   "metadata": {},
   "outputs": [
    {
     "data": {
      "text/html": [
       "<div>\n",
       "<style scoped>\n",
       "    .dataframe tbody tr th:only-of-type {\n",
       "        vertical-align: middle;\n",
       "    }\n",
       "\n",
       "    .dataframe tbody tr th {\n",
       "        vertical-align: top;\n",
       "    }\n",
       "\n",
       "    .dataframe thead th {\n",
       "        text-align: right;\n",
       "    }\n",
       "</style>\n",
       "<table border=\"1\" class=\"dataframe\">\n",
       "  <thead>\n",
       "    <tr style=\"text-align: right;\">\n",
       "      <th></th>\n",
       "      <th>Title</th>\n",
       "      <th>Album</th>\n",
       "      <th>Lyrics</th>\n",
       "      <th>Song_word_length</th>\n",
       "    </tr>\n",
       "  </thead>\n",
       "  <tbody>\n",
       "    <tr>\n",
       "      <th>0</th>\n",
       "      <td>Tim McGraw</td>\n",
       "      <td>Taylor Swift</td>\n",
       "      <td>He said the way my blue eyes shined\\nPut those...</td>\n",
       "      <td>314</td>\n",
       "    </tr>\n",
       "    <tr>\n",
       "      <th>1</th>\n",
       "      <td>Picture to Burn</td>\n",
       "      <td>Taylor Swift</td>\n",
       "      <td>State the obvious, I didn't get my perfect fan...</td>\n",
       "      <td>263</td>\n",
       "    </tr>\n",
       "    <tr>\n",
       "      <th>2</th>\n",
       "      <td>Teardrops On My Guitar</td>\n",
       "      <td>Taylor Swift</td>\n",
       "      <td>Drew looks at me\\nI fake a smile so he won't s...</td>\n",
       "      <td>258</td>\n",
       "    </tr>\n",
       "    <tr>\n",
       "      <th>3</th>\n",
       "      <td>A Place In This World</td>\n",
       "      <td>Taylor Swift</td>\n",
       "      <td>I don't know what I want, so don't ask me\\n'Ca...</td>\n",
       "      <td>207</td>\n",
       "    </tr>\n",
       "    <tr>\n",
       "      <th>4</th>\n",
       "      <td>Cold as You</td>\n",
       "      <td>Taylor Swift</td>\n",
       "      <td>You have a way of coming easily to me\\nAnd whe...</td>\n",
       "      <td>218</td>\n",
       "    </tr>\n",
       "  </tbody>\n",
       "</table>\n",
       "</div>"
      ],
      "text/plain": [
       "                    Title         Album  \\\n",
       "0              Tim McGraw  Taylor Swift   \n",
       "1         Picture to Burn  Taylor Swift   \n",
       "2  Teardrops On My Guitar  Taylor Swift   \n",
       "3   A Place In This World  Taylor Swift   \n",
       "4             Cold as You  Taylor Swift   \n",
       "\n",
       "                                              Lyrics  Song_word_length  \n",
       "0  He said the way my blue eyes shined\\nPut those...               314  \n",
       "1  State the obvious, I didn't get my perfect fan...               263  \n",
       "2  Drew looks at me\\nI fake a smile so he won't s...               258  \n",
       "3  I don't know what I want, so don't ask me\\n'Ca...               207  \n",
       "4  You have a way of coming easily to me\\nAnd whe...               218  "
      ]
     },
     "execution_count": 17,
     "metadata": {},
     "output_type": "execute_result"
    }
   ],
   "source": [
    "lyric_df.head()"
   ]
  },
  {
   "cell_type": "code",
   "execution_count": 18,
   "metadata": {},
   "outputs": [
    {
     "data": {
      "text/html": [
       "<div>\n",
       "<style scoped>\n",
       "    .dataframe tbody tr th:only-of-type {\n",
       "        vertical-align: middle;\n",
       "    }\n",
       "\n",
       "    .dataframe tbody tr th {\n",
       "        vertical-align: top;\n",
       "    }\n",
       "\n",
       "    .dataframe thead th {\n",
       "        text-align: right;\n",
       "    }\n",
       "</style>\n",
       "<table border=\"1\" class=\"dataframe\">\n",
       "  <thead>\n",
       "    <tr style=\"text-align: right;\">\n",
       "      <th></th>\n",
       "      <th>Title</th>\n",
       "      <th>Album</th>\n",
       "      <th>Lyrics</th>\n",
       "      <th>Song_word_length</th>\n",
       "      <th>Song_character_length</th>\n",
       "    </tr>\n",
       "  </thead>\n",
       "  <tbody>\n",
       "    <tr>\n",
       "      <th>0</th>\n",
       "      <td>Tim McGraw</td>\n",
       "      <td>Taylor Swift</td>\n",
       "      <td>He said the way my blue eyes shined\\nPut those...</td>\n",
       "      <td>314</td>\n",
       "      <td>1865</td>\n",
       "    </tr>\n",
       "    <tr>\n",
       "      <th>1</th>\n",
       "      <td>Picture to Burn</td>\n",
       "      <td>Taylor Swift</td>\n",
       "      <td>State the obvious, I didn't get my perfect fan...</td>\n",
       "      <td>263</td>\n",
       "      <td>1586</td>\n",
       "    </tr>\n",
       "    <tr>\n",
       "      <th>2</th>\n",
       "      <td>Teardrops On My Guitar</td>\n",
       "      <td>Taylor Swift</td>\n",
       "      <td>Drew looks at me\\nI fake a smile so he won't s...</td>\n",
       "      <td>258</td>\n",
       "      <td>1496</td>\n",
       "    </tr>\n",
       "    <tr>\n",
       "      <th>3</th>\n",
       "      <td>A Place In This World</td>\n",
       "      <td>Taylor Swift</td>\n",
       "      <td>I don't know what I want, so don't ask me\\n'Ca...</td>\n",
       "      <td>207</td>\n",
       "      <td>1130</td>\n",
       "    </tr>\n",
       "    <tr>\n",
       "      <th>4</th>\n",
       "      <td>Cold as You</td>\n",
       "      <td>Taylor Swift</td>\n",
       "      <td>You have a way of coming easily to me\\nAnd whe...</td>\n",
       "      <td>218</td>\n",
       "      <td>1258</td>\n",
       "    </tr>\n",
       "  </tbody>\n",
       "</table>\n",
       "</div>"
      ],
      "text/plain": [
       "                    Title         Album  \\\n",
       "0              Tim McGraw  Taylor Swift   \n",
       "1         Picture to Burn  Taylor Swift   \n",
       "2  Teardrops On My Guitar  Taylor Swift   \n",
       "3   A Place In This World  Taylor Swift   \n",
       "4             Cold as You  Taylor Swift   \n",
       "\n",
       "                                              Lyrics  Song_word_length  \\\n",
       "0  He said the way my blue eyes shined\\nPut those...               314   \n",
       "1  State the obvious, I didn't get my perfect fan...               263   \n",
       "2  Drew looks at me\\nI fake a smile so he won't s...               258   \n",
       "3  I don't know what I want, so don't ask me\\n'Ca...               207   \n",
       "4  You have a way of coming easily to me\\nAnd whe...               218   \n",
       "\n",
       "   Song_character_length  \n",
       "0                   1865  \n",
       "1                   1586  \n",
       "2                   1496  \n",
       "3                   1130  \n",
       "4                   1258  "
      ]
     },
     "execution_count": 18,
     "metadata": {},
     "output_type": "execute_result"
    }
   ],
   "source": [
    "lyric_df['Song_character_length'] = lyric_df['Lyrics'].apply(lambda x : len(x))\n",
    "lyric_df.head()"
   ]
  },
  {
   "cell_type": "code",
   "execution_count": 19,
   "metadata": {},
   "outputs": [
    {
     "data": {
      "text/plain": [
       "Album\n",
       "How Long Do You Think It's Gonna Last    439.000000\n",
       "reputation                               424.866667\n",
       "Two Lanes of Freedom                     402.000000\n",
       "1989 (Taylor's Version)                  382.304348\n",
       "Fifty Shades Darker                      369.000000\n",
       "Speak Now (Taylor's Version)             353.681818\n",
       "Red (Taylor's Version)                   338.517241\n",
       "Lover                                    326.210526\n",
       "Cats                                     308.000000\n",
       "evermore                                 305.823529\n",
       "Fearless (Taylor's Version)              302.192308\n",
       "The Tortured Poets Department            300.000000\n",
       "Midnights                                298.695652\n",
       "Love Drunk                               279.000000\n",
       "folklore                                 262.705882\n",
       "Christmas Tree Farm                      252.000000\n",
       "Miss Americana                           251.000000\n",
       "Taylor Swift                             248.500000\n",
       "Women in Music Part III                  216.000000\n",
       "Beautiful Eyes                           201.500000\n",
       "Where The Crawdads Sing                  198.000000\n",
       "The Hunger Games                         195.500000\n",
       "The Hannah Montana Movie                 188.000000\n",
       "The Taylor Swift Holiday Collection      174.500000\n",
       "Name: Song_word_length, dtype: float64"
      ]
     },
     "execution_count": 19,
     "metadata": {},
     "output_type": "execute_result"
    }
   ],
   "source": [
    "lyric_df.groupby('Album')['Song_word_length'].mean().sort_values(ascending=False)"
   ]
  },
  {
   "cell_type": "markdown",
   "metadata": {},
   "source": [
    "The album with the longest average song by word count is 'How Long Do You Think It's Gonna Last' by Big Red Machine. The album with the longest average song by Taylor Swift is reputation."
   ]
  },
  {
   "cell_type": "markdown",
   "metadata": {},
   "source": [
    "### Most Common Words and Bigrams"
   ]
  },
  {
   "cell_type": "code",
   "execution_count": null,
   "metadata": {},
   "outputs": [],
   "source": [
    "lyrics_only_df = lyric_df['Lyrics']"
   ]
  },
  {
   "cell_type": "markdown",
   "metadata": {},
   "source": [
    "#### Single Words"
   ]
  },
  {
   "cell_type": "code",
   "execution_count": 28,
   "metadata": {},
   "outputs": [
    {
     "name": "stdout",
     "output_type": "stream",
     "text": [
      " The shape of lyrics_only is (257, 4618)\n"
     ]
    }
   ],
   "source": [
    "# count vectorizer with no maximum number of tokens. \n",
    "\n",
    "count_v = CountVectorizer( min_df=1, stop_words='english')\n",
    "\n",
    "# fit to the lyrics\n",
    "count_v.fit(lyrics_only_df)\n",
    "\n",
    "# transform\n",
    "\n",
    "lyrics_transformed = count_v.transform(lyrics_only_df)\n",
    "# pos_X_test_transformed = pos_count_v.transform(pos_X_test)\n",
    "\n",
    "# check shape - should be 500 columns and same rows as before\n",
    "print(f\" The shape of lyrics_only is {lyrics_transformed.shape}\")\n"
   ]
  },
  {
   "cell_type": "code",
   "execution_count": 35,
   "metadata": {},
   "outputs": [],
   "source": [
    "lyric_data = lyrics_transformed.todense()\n",
    "lyric_words = count_v.get_feature_names_out()"
   ]
  },
  {
   "cell_type": "code",
   "execution_count": 36,
   "metadata": {},
   "outputs": [],
   "source": [
    "total_lyrics_df = pd.DataFrame(data = lyric_data, columns= lyric_words)"
   ]
  },
  {
   "cell_type": "code",
   "execution_count": 38,
   "metadata": {},
   "outputs": [
    {
     "data": {
      "text/html": [
       "<div>\n",
       "<style scoped>\n",
       "    .dataframe tbody tr th:only-of-type {\n",
       "        vertical-align: middle;\n",
       "    }\n",
       "\n",
       "    .dataframe tbody tr th {\n",
       "        vertical-align: top;\n",
       "    }\n",
       "\n",
       "    .dataframe thead th {\n",
       "        text-align: right;\n",
       "    }\n",
       "</style>\n",
       "<table border=\"1\" class=\"dataframe\">\n",
       "  <thead>\n",
       "    <tr style=\"text-align: right;\">\n",
       "      <th></th>\n",
       "      <th>05</th>\n",
       "      <th>1500s</th>\n",
       "      <th>16th</th>\n",
       "      <th>17</th>\n",
       "      <th>1830s</th>\n",
       "      <th>1944</th>\n",
       "      <th>1950s</th>\n",
       "      <th>1958</th>\n",
       "      <th>2003</th>\n",
       "      <th>29th</th>\n",
       "      <th>...</th>\n",
       "      <th>yelling</th>\n",
       "      <th>yes</th>\n",
       "      <th>yesterday</th>\n",
       "      <th>yogurt</th>\n",
       "      <th>yon</th>\n",
       "      <th>york</th>\n",
       "      <th>young</th>\n",
       "      <th>younger</th>\n",
       "      <th>youth</th>\n",
       "      <th>zayn</th>\n",
       "    </tr>\n",
       "  </thead>\n",
       "  <tbody>\n",
       "    <tr>\n",
       "      <th>0</th>\n",
       "      <td>0</td>\n",
       "      <td>0</td>\n",
       "      <td>0</td>\n",
       "      <td>0</td>\n",
       "      <td>0</td>\n",
       "      <td>0</td>\n",
       "      <td>0</td>\n",
       "      <td>0</td>\n",
       "      <td>0</td>\n",
       "      <td>0</td>\n",
       "      <td>...</td>\n",
       "      <td>0</td>\n",
       "      <td>0</td>\n",
       "      <td>0</td>\n",
       "      <td>0</td>\n",
       "      <td>0</td>\n",
       "      <td>0</td>\n",
       "      <td>0</td>\n",
       "      <td>0</td>\n",
       "      <td>0</td>\n",
       "      <td>0</td>\n",
       "    </tr>\n",
       "    <tr>\n",
       "      <th>1</th>\n",
       "      <td>0</td>\n",
       "      <td>0</td>\n",
       "      <td>0</td>\n",
       "      <td>0</td>\n",
       "      <td>0</td>\n",
       "      <td>0</td>\n",
       "      <td>0</td>\n",
       "      <td>0</td>\n",
       "      <td>0</td>\n",
       "      <td>0</td>\n",
       "      <td>...</td>\n",
       "      <td>0</td>\n",
       "      <td>0</td>\n",
       "      <td>0</td>\n",
       "      <td>0</td>\n",
       "      <td>0</td>\n",
       "      <td>0</td>\n",
       "      <td>0</td>\n",
       "      <td>0</td>\n",
       "      <td>0</td>\n",
       "      <td>0</td>\n",
       "    </tr>\n",
       "    <tr>\n",
       "      <th>2</th>\n",
       "      <td>0</td>\n",
       "      <td>0</td>\n",
       "      <td>0</td>\n",
       "      <td>0</td>\n",
       "      <td>0</td>\n",
       "      <td>0</td>\n",
       "      <td>0</td>\n",
       "      <td>0</td>\n",
       "      <td>0</td>\n",
       "      <td>0</td>\n",
       "      <td>...</td>\n",
       "      <td>0</td>\n",
       "      <td>0</td>\n",
       "      <td>0</td>\n",
       "      <td>0</td>\n",
       "      <td>0</td>\n",
       "      <td>0</td>\n",
       "      <td>0</td>\n",
       "      <td>0</td>\n",
       "      <td>0</td>\n",
       "      <td>0</td>\n",
       "    </tr>\n",
       "    <tr>\n",
       "      <th>3</th>\n",
       "      <td>0</td>\n",
       "      <td>0</td>\n",
       "      <td>0</td>\n",
       "      <td>0</td>\n",
       "      <td>0</td>\n",
       "      <td>0</td>\n",
       "      <td>0</td>\n",
       "      <td>0</td>\n",
       "      <td>0</td>\n",
       "      <td>0</td>\n",
       "      <td>...</td>\n",
       "      <td>0</td>\n",
       "      <td>0</td>\n",
       "      <td>0</td>\n",
       "      <td>0</td>\n",
       "      <td>0</td>\n",
       "      <td>0</td>\n",
       "      <td>0</td>\n",
       "      <td>0</td>\n",
       "      <td>0</td>\n",
       "      <td>0</td>\n",
       "    </tr>\n",
       "    <tr>\n",
       "      <th>4</th>\n",
       "      <td>0</td>\n",
       "      <td>0</td>\n",
       "      <td>0</td>\n",
       "      <td>0</td>\n",
       "      <td>0</td>\n",
       "      <td>0</td>\n",
       "      <td>0</td>\n",
       "      <td>0</td>\n",
       "      <td>0</td>\n",
       "      <td>0</td>\n",
       "      <td>...</td>\n",
       "      <td>0</td>\n",
       "      <td>0</td>\n",
       "      <td>0</td>\n",
       "      <td>0</td>\n",
       "      <td>0</td>\n",
       "      <td>0</td>\n",
       "      <td>0</td>\n",
       "      <td>0</td>\n",
       "      <td>0</td>\n",
       "      <td>0</td>\n",
       "    </tr>\n",
       "  </tbody>\n",
       "</table>\n",
       "<p>5 rows × 4618 columns</p>\n",
       "</div>"
      ],
      "text/plain": [
       "   05  1500s  16th  17  1830s  1944  1950s  1958  2003  29th  ...  yelling  \\\n",
       "0   0      0     0   0      0     0      0     0     0     0  ...        0   \n",
       "1   0      0     0   0      0     0      0     0     0     0  ...        0   \n",
       "2   0      0     0   0      0     0      0     0     0     0  ...        0   \n",
       "3   0      0     0   0      0     0      0     0     0     0  ...        0   \n",
       "4   0      0     0   0      0     0      0     0     0     0  ...        0   \n",
       "\n",
       "   yes  yesterday  yogurt  yon  york  young  younger  youth  zayn  \n",
       "0    0          0       0    0     0      0        0      0     0  \n",
       "1    0          0       0    0     0      0        0      0     0  \n",
       "2    0          0       0    0     0      0        0      0     0  \n",
       "3    0          0       0    0     0      0        0      0     0  \n",
       "4    0          0       0    0     0      0        0      0     0  \n",
       "\n",
       "[5 rows x 4618 columns]"
      ]
     },
     "execution_count": 38,
     "metadata": {},
     "output_type": "execute_result"
    }
   ],
   "source": [
    "total_lyrics_df.head()"
   ]
  },
  {
   "cell_type": "code",
   "execution_count": 47,
   "metadata": {},
   "outputs": [
    {
     "data": {
      "text/plain": [
       "<Axes: >"
      ]
     },
     "execution_count": 47,
     "metadata": {},
     "output_type": "execute_result"
    },
    {
     "data": {
      "image/png": "[encoded data removed]",
      "text/plain": [
       "<Figure size 640x480 with 1 Axes>"
      ]
     },
     "metadata": {},
     "output_type": "display_data"
    }
   ],
   "source": [
    "total_lyrics_df.sum().sort_values(ascending=False).head(20).plot(kind = 'bar')"
   ]
  },
  {
   "cell_type": "markdown",
   "metadata": {},
   "source": [
    "#### Bigrams"
   ]
  },
  {
   "cell_type": "code",
   "execution_count": 54,
   "metadata": {},
   "outputs": [
    {
     "name": "stdout",
     "output_type": "stream",
     "text": [
      " The shape is (257, 500)\n"
     ]
    }
   ],
   "source": [
    "# count vectorizer with no maximum number of tokens. \n",
    "\n",
    "count_v_bigram = CountVectorizer( max_features=500, min_df=1, stop_words='english', ngram_range=(2,2))\n",
    "\n",
    "# fit to the lyrics\n",
    "count_v_bigram.fit(lyrics_only_df)\n",
    "\n",
    "# transform\n",
    "\n",
    "lyrics_transformed_bigram = count_v_bigram.transform(lyrics_only_df)\n",
    "# pos_X_test_transformed = pos_count_v.transform(pos_X_test)\n",
    "\n",
    "# check shape - should be 500 columns and same rows as before\n",
    "print(f\" The shape is {lyrics_transformed_bigram.shape}\")"
   ]
  },
  {
   "cell_type": "code",
   "execution_count": 55,
   "metadata": {},
   "outputs": [],
   "source": [
    "lyric_data_bigram = lyrics_transformed_bigram.todense()\n",
    "lyric_words_bigram = count_v_bigram.get_feature_names_out()\n",
    "\n",
    "total_lyrics_df_bigram = pd.DataFrame(data = lyric_data_bigram, columns= lyric_words_bigram)"
   ]
  },
  {
   "cell_type": "code",
   "execution_count": 56,
   "metadata": {},
   "outputs": [
    {
     "data": {
      "text/plain": [
       "oh oh            302\n",
       "taylor swift     273\n",
       "pre chorus       272\n",
       "post chorus      139\n",
       "chorus taylor     98\n",
       "ah ah             92\n",
       "don know          91\n",
       "ooh ooh           89\n",
       "ve got            72\n",
       "di di             72\n",
       "don wanna         71\n",
       "chorus cause      70\n",
       "shake shake       58\n",
       "come come         57\n",
       "la la             50\n",
       "wish wish         48\n",
       "chorus oh         47\n",
       "just wanna        46\n",
       "chorus don        45\n",
       "love love         42\n",
       "dtype: int64"
      ]
     },
     "execution_count": 56,
     "metadata": {},
     "output_type": "execute_result"
    }
   ],
   "source": [
    "total_lyrics_df_bigram.sum().sort_values(ascending=False).head(20)"
   ]
  },
  {
   "cell_type": "markdown",
   "metadata": {},
   "source": [
    "There are many repeated words. We need to take out 'chorus' as it will not be part of the lyrics. Also 'Taylor' and 'Swift'"
   ]
  },
  {
   "cell_type": "markdown",
   "metadata": {},
   "source": []
  }
 ],
 "metadata": {
  "kernelspec": {
   "display_name": "base_env",
   "language": "python",
   "name": "python3"
  },
  "language_info": {
   "codemirror_mode": {
    "name": "ipython",
    "version": 3
   },
   "file_extension": ".py",
   "mimetype": "text/x-python",
   "name": "python",
   "nbconvert_exporter": "python",
   "pygments_lexer": "ipython3",
   "version": "3.11.5"
  }
 },
 "nbformat": 4,
 "nbformat_minor": 2
}
